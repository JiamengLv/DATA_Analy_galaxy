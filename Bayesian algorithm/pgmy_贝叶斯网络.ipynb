{
 "cells": [
  {
   "cell_type": "code",
   "execution_count": null,
   "metadata": {},
   "outputs": [
    {
     "name": "stderr",
     "output_type": "stream",
     "text": [
      "WARNING:pgmpy:BayesianModel has been renamed to BayesianNetwork. Please use BayesianNetwork class, BayesianModel will be removed in future.\n"
     ]
    }
   ],
   "source": [
    "import numpy as np\n",
    "import pandas as pd\n",
    "from pgmpy.models import BayesianModel\n",
    "from pgmpy.estimators import ExpectationMaximization\n",
    "from pgmpy.inference import VariableElimination\n",
    "from pgmpy.factors.discrete import TabularCPD\n",
    "\n",
    "# (1) 数据预处理 - 修改后的版本，不进行离散化\n",
    "def preprocess_image(image):\n",
    "    \"\"\"\n",
    "    将图像直接展平为一个向量。\n",
    "    \"\"\"\n",
    "    return image.flatten()\n",
    "\n",
    "# 辅助函数：生成二维高斯核\n",
    "def gaussian_kernel(x, y, sigma, grid_size):\n",
    "    \"\"\"\n",
    "    生成二维高斯核函数。\n",
    "    \"\"\"\n",
    "    grid_x, grid_y = np.meshgrid(np.arange(grid_size), np.arange(grid_size))\n",
    "    kernel = np.exp(-((grid_x - x)**2 + (grid_y - y)**2) / (2 * sigma**2))\n",
    "    return kernel\n",
    "\n",
    "# 生成模拟数据\n",
    "np.random.seed(42)\n",
    "num_samples = 10\n",
    "grid_size = 10\n",
    "data = []\n",
    "max_num_sources = 5\n",
    "for _ in range(num_samples):\n",
    "\n",
    "    image = np.zeros((grid_size, grid_size))\n",
    "    num_sources = np.random.poisson(lam=3)  \n",
    "    source_info = []  \n",
    "    for _ in range(num_sources):\n",
    "        x, y = np.random.randint(0, grid_size, size=2)  \n",
    "        flux = np.random.normal(loc=0.5, scale=0.1)  \n",
    "        flux_level = np.digitize(flux, bins=[0, 0.3, 0.7, 1]) - 1 \n",
    "        kernel = gaussian_kernel(x, y, sigma=1, grid_size=grid_size)\n",
    "        image += flux * kernel\n",
    "        source_info.append((x, y, flux_level)) \n",
    "    \n",
    "    regions = preprocess_image(image)\n",
    "    \n",
    "   \n",
    "    sample = list(regions) \n",
    "    sample = [num_sources] + sample  \n",
    "    for i in range(max_num_sources):  \n",
    "        if i < len(source_info):\n",
    "            sample.extend([source_info[i][0], source_info[i][1], source_info[i][2]])\n",
    "        else:\n",
    "            sample.extend([0, 0, 0]) \n",
    "\n",
    "    data.append(sample)\n",
    "\n",
    "\n",
    "columns = [\"N\"] + [f\"R{i}\" for i in range(grid_size*grid_size)]  # 区域强度\n",
    "source_columns = [item for i in range(max_num_sources) for item in (f\"X{i}\", f\"Y{i}\", f\"F{i}\")]  # 每个源的位置和 flux 等级\n",
    "df = pd.DataFrame(data, columns=columns + source_columns)\n",
    "\n",
    "# (2) 构建贝叶斯网络 - 保持不变\n",
    "model = BayesianModel()\n",
    "model.add_nodes_from(columns + source_columns)\n",
    "\n",
    "# 更新边的定义，因为现在我们有一个一维的区域列表而不是二维网格\n",
    "model.add_edges_from([('N', region) for region in columns[1:]])  # 源数量影响区域强度\n",
    "model.add_edges_from([(f\"X{i}\", region) for i in range(max_num_sources) for region in columns[1:]])  # 源位置影响区域强度\n",
    "model.add_edges_from([(f\"Y{i}\", region) for i in range(max_num_sources) for region in columns[1:]])  # 源位置影响区域强度\n",
    "model.add_edges_from([(f\"F{i}\", region) for i in range(max_num_sources) for region in columns[1:]])  # 源 flux 影响区域强度\n",
    "\n",
    "cpd_n = TabularCPD(variable='N', variable_card=6, values=[[0.2]]*6)  \n",
    "cpd_x0 = TabularCPD(variable='X0', variable_card=grid_size, values=[[1/grid_size]]*grid_size)  \n",
    "cpd_y0 = TabularCPD(variable='Y0', variable_card=grid_size, values=[[1/grid_size]]*grid_size)\n",
    "cpd_f0 = TabularCPD(variable='F0', variable_card=3, values=[[0.3], [0.4], [0.3]])  \n",
    "\n",
    "model.add_cpds(cpd_n, cpd_x0, cpd_y0, cpd_f0)\n",
    "\n",
    "# (3) 参数学习\n",
    "model.fit(df, estimator=ExpectationMaximization)"
   ]
  },
  {
   "cell_type": "code",
   "execution_count": 25,
   "metadata": {},
   "outputs": [
    {
     "name": "stderr",
     "output_type": "stream",
     "text": [
      "WARNING:pgmpy:BayesianModel has been renamed to BayesianNetwork. Please use BayesianNetwork class, BayesianModel will be removed in future.\n",
      "WARNING:pgmpy:BayesianModel has been renamed to BayesianNetwork. Please use BayesianNetwork class, BayesianModel will be removed in future.\n"
     ]
    },
    {
     "data": {
      "application/vnd.jupyter.widget-view+json": {
       "model_id": "7e4342747da848b282ed4ad6dc11751c",
       "version_major": 2,
       "version_minor": 0
      },
      "text/plain": [
       "  0%|          | 0/1 [00:00<?, ?it/s]"
      ]
     },
     "metadata": {},
     "output_type": "display_data"
    },
    {
     "data": {
      "application/vnd.jupyter.widget-view+json": {
       "model_id": "f155c963b9524b989b8a11a3ee095b44",
       "version_major": 2,
       "version_minor": 0
      },
      "text/plain": [
       "  0%|          | 0/1 [00:00<?, ?it/s]"
      ]
     },
     "metadata": {},
     "output_type": "display_data"
    },
    {
     "name": "stdout",
     "output_type": "stream",
     "text": [
      "Inference Result: {'Y4': 0, 'Y1': 4, 'F3': 1, 'F4': 0, 'X1': 5, 'X3': 4, 'Y3': 0, 'F2': 1, 'Y2': 7, 'F0': 1, 'F1': 1, 'Y0': 6, 'X4': 0, 'X2': 1, 'X0': 2}\n"
     ]
    },
    {
     "data": {
      "image/png": "[encoded data removed]",
      "text/plain": [
       "<Figure size 640x480 with 2 Axes>"
      ]
     },
     "metadata": {},
     "output_type": "display_data"
    },
    {
     "data": {
      "image/png": "[encoded data removed]",
      "text/plain": [
       "<Figure size 640x480 with 1 Axes>"
      ]
     },
     "metadata": {},
     "output_type": "display_data"
    }
   ],
   "source": [
    "# 假设model已经被正确地定义和训练\n",
    "\n",
    "# 生成模拟测试数据\n",
    "image = np.zeros((grid_size, grid_size))\n",
    "num_sources = 3\n",
    "for i in range(num_sources):\n",
    "    x, y = np.random.randint(0, grid_size, size=2)\n",
    "    flux = np.random.normal(loc=0.5, scale=0.1)\n",
    "    kernel = gaussian_kernel(x, y, sigma=1, grid_size=grid_size)\n",
    "    image += flux * kernel\n",
    "    \n",
    "regions = preprocess_image(image)\n",
    "\n",
    "sample = list(regions)\n",
    "sample = [num_sources] + sample\n",
    "\n",
    "# 确保这里使用的x, y, flux对应于每个源的信息\n",
    "for i in range(max_num_sources):\n",
    "    if i < num_sources:\n",
    "        sample.extend([x, y, flux])\n",
    "    else:\n",
    "        sample.extend([0, 0, 0])\n",
    "\n",
    "test_data = pd.DataFrame([sample], columns=columns + source_columns)\n",
    "\n",
    "# 使用VariableElimination进行推断\n",
    "inference = VariableElimination(model)\n",
    "\n",
    "# 构建evidence字典，注意这里的key应该是在模型中存在的变量名\n",
    "evidence_dict = {f\"R{i}\": df.iloc[0][f\"R{i}\"] for i in range(grid_size*grid_size)}\n",
    "\n",
    "evidence_dict\n",
    "# 执行MAP查询\n",
    "\n",
    "result = inference.map_query(variables=source_columns, evidence=evidence_dict)\n",
    "print(\"Inference Result:\", result)\n",
    "\n",
    "# 可视化结果\n",
    "import matplotlib.pyplot as plt\n",
    "plt.imshow(df.iloc[0][columns[1:]].values.reshape(grid_size, grid_size))\n",
    "plt.colorbar()\n",
    "\n",
    "x = [result[f\"X{i}\"] for i in range(max_num_sources) if f\"X{i}\" in result]\n",
    "y = [result[f\"Y{i}\"] for i in range(max_num_sources) if f\"Y{i}\" in result]\n",
    "\n",
    "plt.scatter(x, y, color='red')\n",
    "\n",
    "plt.show()\n",
    "\n",
    "# flux 等级的直方图\n",
    "plt.hist(df.iloc[0][source_columns[2::3]], alpha=0.5, label='True')\n",
    "plt.hist([result[f\"F{i}\"] for i in range(max_num_sources) if f\"F{i}\" in result], alpha=0.5, label='Predicted')\n",
    "plt.show()\n",
    "\n"
   ]
  },
  {
   "cell_type": "code",
   "execution_count": 21,
   "metadata": {},
   "outputs": [
    {
     "name": "stdout",
     "output_type": "stream",
     "text": [
      "Variable R00 has states: {'R00': [0], 'F0': [1], 'F1': [1], 'F2': [1], 'F3': [0, 1], 'F4': [0], 'N': [3, 4], 'X0': [2, 9], 'X1': [5, 8], 'X2': [1, 4], 'X3': [0, 4], 'X4': [0], 'Y0': [2, 6], 'Y1': [2, 4], 'Y2': [2, 7], 'Y3': [0], 'Y4': [0]}\n",
      "Variable R01 has states: {'R01': [0], 'F0': [1], 'F1': [1], 'F2': [1], 'F3': [0, 1], 'F4': [0], 'N': [3, 4], 'X0': [2, 9], 'X1': [5, 8], 'X2': [1, 4], 'X3': [0, 4], 'X4': [0], 'Y0': [2, 6], 'Y1': [2, 4], 'Y2': [2, 7], 'Y3': [0], 'Y4': [0]}\n",
      "Variable R02 has states: {'R02': [0], 'F0': [1], 'F1': [1], 'F2': [1], 'F3': [0, 1], 'F4': [0], 'N': [3, 4], 'X0': [2, 9], 'X1': [5, 8], 'X2': [1, 4], 'X3': [0, 4], 'X4': [0], 'Y0': [2, 6], 'Y1': [2, 4], 'Y2': [2, 7], 'Y3': [0], 'Y4': [0]}\n"
     ]
    }
   ],
   "source": [
    "# 假设 model 是你的贝叶斯网络模型\n",
    "for var in [\"R00\", \"R01\", \"R02\"]:\n",
    "    print(f\"Variable {var} has states: {model.get_cpds(var).state_names}\")"
   ]
  },
  {
   "cell_type": "code",
   "execution_count": null,
   "metadata": {},
   "outputs": [],
   "source": []
  }
 ],
 "metadata": {
  "kernelspec": {
   "display_name": "base",
   "language": "python",
   "name": "python3"
  },
  "language_info": {
   "codemirror_mode": {
    "name": "ipython",
    "version": 3
   },
   "file_extension": ".py",
   "mimetype": "text/x-python",
   "name": "python",
   "nbconvert_exporter": "python",
   "pygments_lexer": "ipython3",
   "version": "3.10.9"
  }
 },
 "nbformat": 4,
 "nbformat_minor": 2
}

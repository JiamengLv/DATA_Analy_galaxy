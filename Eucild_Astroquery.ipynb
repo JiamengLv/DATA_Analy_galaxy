{
 "cells": [
  {
   "cell_type": "code",
   "execution_count": 1,
   "id": "f5f7f09c",
   "metadata": {},
   "outputs": [
    {
     "name": "stdout",
     "output_type": "stream",
     "text": [
      "INFO: Retrieving tables... [astroquery.utils.tap.core]\n",
      "INFO: Parsing tables... [astroquery.utils.tap.core]\n",
      "INFO: Done. [astroquery.utils.tap.core]\n",
      "Found 66 tables\n",
      "catalogue.mer_catalogue\n",
      "catalogue.mer_cutouts\n",
      "catalogue.mer_morphology\n",
      "catalogue.phz_classification\n",
      "catalogue.phz_galaxy_sed\n",
      "catalogue.phz_nir_physical_parameters\n",
      "catalogue.phz_photo_z\n",
      "catalogue.phz_physical_parameters\n",
      "catalogue.phz_qso_physical_parameters\n",
      "catalogue.phz_star_sed\n",
      "catalogue.phz_star_template\n",
      "catalogue.spectro_line_features_catalog_spe_atomic_indices\n",
      "catalogue.spectro_line_features_catalog_spe_continuum_features\n",
      "catalogue.spectro_line_features_catalog_spe_line_features_cat\n",
      "catalogue.spectro_line_features_catalog_spe_molecular_indices\n",
      "catalogue.spectro_model_catalog_spe_galaxy_models\n",
      "catalogue.spectro_model_catalog_spe_lines_catalog\n",
      "catalogue.spectro_model_catalog_spe_qso_models\n",
      "catalogue.spectro_model_catalog_spe_star_models\n",
      "catalogue.spectro_zcatalog_spe_classification\n",
      "catalogue.spectro_zcatalog_spe_galaxy_candidates\n",
      "catalogue.spectro_zcatalog_spe_qso_candidates\n",
      "catalogue.spectro_zcatalog_spe_quality\n",
      "catalogue.spectro_zcatalog_spe_star_candidates\n",
      "ivoa.obscore\n",
      "public.dual\n",
      "sedm.raw_detector\n",
      "sedm.raw_frame\n",
      "sedm.raw_quadrant\n",
      "sedm.aux_calibrated\n",
      "sedm.aux_mosaic\n",
      "sedm.basic_download_data\n",
      "sedm.calibrated_detectors\n",
      "sedm.calibrated_frame\n",
      "sedm.column_values\n",
      "sedm.combined_spectra\n",
      "sedm.combined_spectra_product\n",
      "sedm.data_release\n",
      "sedm.frame_catalog\n",
      "sedm.instrument\n",
      "sedm.mer_final_catalogue\n",
      "sedm.mer_segmentation_map\n",
      "sedm.mosaic_product\n",
      "sedm.observation_mode\n",
      "sedm.observation_mosaic\n",
      "sedm.phz_catalogue\n",
      "sedm.phz_catalogue_l3\n",
      "sedm.provenance\n",
      "sedm.sedm_production\n",
      "sedm.sir_frame_detectors\n",
      "sedm.sir_science_frame\n",
      "sedm.spe_catalogue\n",
      "sedm.spectra_source\n",
      "sedm.vmpz_healpix_bitmask\n",
      "sedm.vmpz_healpix_coverage\n",
      "sedm.vmpz_healpix_depthmap\n",
      "sedm.vmpz_healpix_footprint_mask\n",
      "sedm.vmpz_healpix_infomap\n",
      "sedm.files_table\n",
      "tap_config.coord_sys\n",
      "tap_config.properties\n",
      "tap_schema.columns\n",
      "tap_schema.key_columns\n",
      "tap_schema.keys\n",
      "tap_schema.schemas\n",
      "tap_schema.tables\n"
     ]
    }
   ],
   "source": [
    "from astroquery.esa.euclid import Euclid\n",
    "tables = Euclid.load_tables(only_names=True, include_shared_tables=True)\n",
    "print(\"Found\", len(tables), \"tables\")\n",
    "print(*(table.name for table in tables), sep=\"\\n\")\n",
    "\n",
    "# 写入txt文件中\n",
    "with open(\"Euclid_tables.txt\", \"w\") as f:\n",
    "    for table in tables:\n",
    "        f.write(table.name + \"\\n\")"
   ]
  },
  {
   "cell_type": "code",
   "execution_count": 2,
   "id": "35ba3f01",
   "metadata": {},
   "outputs": [
    {
     "name": "stdout",
     "output_type": "stream",
     "text": [
      "INFO: Query finished. [astroquery.utils.tap.core]\n",
      "Found 18 results\n"
     ]
    },
    {
     "data": {
      "text/html": [
       "<div><i>Table length=5</i>\n",
       "<table id=\"table140066702877328\" class=\"table-striped table-bordered table-condensed\">\n",
       "<thead><tr><th>creation_date</th><th>ra</th><th>dec</th><th>file_name</th><th>file_path</th><th>datalabs_path</th><th>filter_name</th><th>dist</th></tr></thead>\n",
       "<thead><tr><th>str23</th><th>float64</th><th>float64</th><th>str65</th><th>str47</th><th>str35</th><th>str5</th><th>float64</th></tr></thead>\n",
       "<tr><td>2024-09-30T18:23:19.14</td><td>267.99354663</td><td>65.60351547</td><td>EUC_NIR_W-CAL-IMAGE_Y-2704-0_20240930T182242.317672Z.fits</td><td>/euclid/repository_idr/iqr1/Q1_R1/NIR/2704</td><td>/data/euclid_q1/Q1_R1/NIR/2704</td><td>NIR_Y</td><td>0.1141538148715594</td></tr>\n",
       "<tr><td>2024-10-17T04:30:56.18</td><td>267.99354663</td><td>65.60351547</td><td>EUC_VIS_SWL-DET-002704-00-2-0000000__20241017T042759.344384Z.fits</td><td>/euclid/repository_idr/iqr1/Q1_R1/VIS_QUAD/2704</td><td>/data/euclid_q1/Q1_R1/VIS_QUAD/2704</td><td>VIS</td><td>0.1141538148715594</td></tr>\n",
       "<tr><td>2024-09-30T19:20:24.788</td><td>267.99354663</td><td>65.60351547</td><td>EUC_NIR_W-CAL-IMAGE_H-2704-0_20240930T191946.868701Z.fits</td><td>/euclid/repository_idr/iqr1/Q1_R1/NIR/2704</td><td>/data/euclid_q1/Q1_R1/NIR/2704</td><td>NIR_H</td><td>0.1141538148715594</td></tr>\n",
       "<tr><td>2024-09-30T18:13:05.56</td><td>267.99354663</td><td>65.60351547</td><td>EUC_NIR_W-CAL-IMAGE_J-2704-0_20240930T181230.826554Z.fits</td><td>/euclid/repository_idr/iqr1/Q1_R1/NIR/2704</td><td>/data/euclid_q1/Q1_R1/NIR/2704</td><td>NIR_J</td><td>0.1141538148715594</td></tr>\n",
       "<tr><td>2024-10-17T04:30:39.527</td><td>267.99354663</td><td>65.60351547</td><td>EUC_VIS_SWL-DET-002704-00-1-0000000__20241017T042756.626122Z.fits</td><td>/euclid/repository_idr/iqr1/Q1_R1/VIS_QUAD/2704</td><td>/data/euclid_q1/Q1_R1/VIS_QUAD/2704</td><td>VIS</td><td>0.1141538148715594</td></tr>\n",
       "</table></div>"
      ],
      "text/plain": [
       "<Table length=5>\n",
       "     creation_date           ra      ... filter_name        dist       \n",
       "         str23            float64    ...     str5         float64      \n",
       "----------------------- ------------ ... ----------- ------------------\n",
       " 2024-09-30T18:23:19.14 267.99354663 ...       NIR_Y 0.1141538148715594\n",
       " 2024-10-17T04:30:56.18 267.99354663 ...         VIS 0.1141538148715594\n",
       "2024-09-30T19:20:24.788 267.99354663 ...       NIR_H 0.1141538148715594\n",
       " 2024-09-30T18:13:05.56 267.99354663 ...       NIR_J 0.1141538148715594\n",
       "2024-10-17T04:30:39.527 267.99354663 ...         VIS 0.1141538148715594"
      ]
     },
     "execution_count": 2,
     "metadata": {},
     "output_type": "execute_result"
    }
   ],
   "source": [
    "#example cone search for source NGC6505\n",
    "from astroquery.esa.euclid import Euclid\n",
    "from astropy.coordinates import SkyCoord\n",
    "import astropy.units as u\n",
    "\n",
    "\n",
    "coord = SkyCoord(\"17h51m07.4s +65d31m50.8s\", frame='icrs')\n",
    "radius = u.Quantity(0.5, u.deg)\n",
    "job = Euclid.cone_search(coordinate=coord, radius=radius, table_name=\"sedm.calibrated_frame\", ra_column_name=\"ra\", dec_column_name=\"dec\", columns=\"*\", async_job=True)\n",
    "# 'https://eas.esac.esa.int/sas-dd/data?file_name=EUC_NIR_W-CAL-IMAGE_Y-2704-0_20240930T182242.317672Z.fits&release=sedm&RETRIEVAL_TYPE=FILE'\n",
    "cone_results = job.get_results()\n",
    "print(\"Found\", len(cone_results), \"results\")\n",
    "cone_results['creation_date', 'ra', 'dec', 'file_name', 'file_path', 'datalabs_path', 'filter_name', 'dist'][:5]\n"
   ]
  },
  {
   "cell_type": "code",
   "execution_count": 3,
   "id": "23e57174",
   "metadata": {},
   "outputs": [
    {
     "name": "stdout",
     "output_type": "stream",
     "text": [
      "                                                                       url                                                                       \n",
      "-------------------------------------------------------------------------------------------------------------------------------------------------\n",
      "        https://eas.esac.esa.int/sas-dd/data?file_name=EUC_NIR_W-CAL-IMAGE_Y-2704-0_20240930T182242.317672Z.fits&release=sedm&RETRIEVAL_TYPE=FILE\n",
      "https://eas.esac.esa.int/sas-dd/data?file_name=EUC_VIS_SWL-DET-002704-00-2-0000000__20241017T042759.344384Z.fits&release=sedm&RETRIEVAL_TYPE=FILE\n",
      "        https://eas.esac.esa.int/sas-dd/data?file_name=EUC_NIR_W-CAL-IMAGE_H-2704-0_20240930T191946.868701Z.fits&release=sedm&RETRIEVAL_TYPE=FILE\n",
      "        https://eas.esac.esa.int/sas-dd/data?file_name=EUC_NIR_W-CAL-IMAGE_J-2704-0_20240930T181230.826554Z.fits&release=sedm&RETRIEVAL_TYPE=FILE\n",
      "https://eas.esac.esa.int/sas-dd/data?file_name=EUC_VIS_SWL-DET-002704-00-1-0000000__20241017T042756.626122Z.fits&release=sedm&RETRIEVAL_TYPE=FILE\n"
     ]
    }
   ],
   "source": [
    "# 生成数据下载的url\n",
    "cone_results[\"url\"] = \"https://eas.esac.esa.int/sas-dd/data?file_name=\" + cone_results[\"file_name\"] + \"&release=sedm&RETRIEVAL_TYPE=FILE\"\n",
    "print(cone_results[\"url\"][:5])"
   ]
  },
  {
   "cell_type": "code",
   "execution_count": null,
   "id": "db7b3238",
   "metadata": {},
   "outputs": [
    {
     "name": "stdout",
     "output_type": "stream",
     "text": [
      "Getting file: EUC_NIR_W-CAL-IMAGE_Y-2704-0_20240930T182242.317672Z.fits\n"
     ]
    }
   ],
   "source": [
    "import subprocess\n",
    "import os\n",
    "\n",
    "def download_with_wget(url, output_path):\n",
    "    \"\"\"\n",
    "    使用wget下载文件，并支持断点续传。\n",
    "    \n",
    "    :param url: 文件的URL地址。\n",
    "    :param output_path: 文件保存的本地路径。\n",
    "    \"\"\"\n",
    "    if not os.path.exists(os.path.dirname(output_path)):\n",
    "        os.makedirs(os.path.dirname(output_path), exist_ok=True)\n",
    "    \n",
    "    # 使用wget命令下载文件，'-c'参数用于支持断点续传\n",
    "    result = subprocess.run(['wget', '-c', url, '-O', output_path], capture_output=True, text=True)\n",
    "\n",
    "    if result.returncode == 0:\n",
    "        print(f\"File {output_path} downloaded successfully.\")\n",
    "    else:\n",
    "        print(f\"Failed to download file {output_path}. Error: {result.stderr}\")\n",
    "\n",
    "output_folder = 'example_outputs/'\n",
    "if not os.path.exists(output_folder):\n",
    "    os.makedirs(output_folder)\n",
    "\n",
    "for example_file_name in cone_results['file_name']:\n",
    "    print(\"Getting file:\", example_file_name)\n",
    "    url = \"https://eas.esac.esa.int/sas-dd/data?file_name=\" + example_file_name + \"&release=sedm&RETRIEVAL_TYPE=FILE\"\n",
    "    output_path = os.path.join(output_folder, example_file_name)\n",
    "    download_with_wget(url, output_path)"
   ]
  },
  {
   "cell_type": "code",
   "execution_count": null,
   "id": "b9b22e46",
   "metadata": {},
   "outputs": [],
   "source": []
  }
 ],
 "metadata": {
  "kernelspec": {
   "display_name": "base",
   "language": "python",
   "name": "python3"
  },
  "language_info": {
   "codemirror_mode": {
    "name": "ipython",
    "version": 3
   },
   "file_extension": ".py",
   "mimetype": "text/x-python",
   "name": "python",
   "nbconvert_exporter": "python",
   "pygments_lexer": "ipython3",
   "version": "3.10.4"
  }
 },
 "nbformat": 4,
 "nbformat_minor": 5
}
